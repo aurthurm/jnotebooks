{
 "cells": [
  {
   "cell_type": "code",
   "execution_count": 81,
   "id": "touched-standard",
   "metadata": {},
   "outputs": [],
   "source": [
    "import pandas as pd\n",
    "import uuid"
   ]
  },
  {
   "cell_type": "code",
   "execution_count": 152,
   "id": "organic-iceland",
   "metadata": {},
   "outputs": [],
   "source": [
    "data = pd.read_csv(\"facility_list.csv\", index_col=None)"
   ]
  },
  {
   "cell_type": "code",
   "execution_count": 153,
   "id": "destroyed-brazilian",
   "metadata": {},
   "outputs": [
    {
     "data": {
      "text/html": [
       "<div>\n",
       "<style scoped>\n",
       "    .dataframe tbody tr th:only-of-type {\n",
       "        vertical-align: middle;\n",
       "    }\n",
       "\n",
       "    .dataframe tbody tr th {\n",
       "        vertical-align: top;\n",
       "    }\n",
       "\n",
       "    .dataframe thead th {\n",
       "        text-align: right;\n",
       "    }\n",
       "</style>\n",
       "<table border=\"1\" class=\"dataframe\">\n",
       "  <thead>\n",
       "    <tr style=\"text-align: right;\">\n",
       "      <th></th>\n",
       "      <th>National</th>\n",
       "      <th>Province</th>\n",
       "      <th>District</th>\n",
       "      <th>Facility Name</th>\n",
       "      <th>Facility code</th>\n",
       "    </tr>\n",
       "  </thead>\n",
       "  <tbody>\n",
       "    <tr>\n",
       "      <th>0</th>\n",
       "      <td>Zimbabwe Ministry of Health</td>\n",
       "      <td>Bulawayo</td>\n",
       "      <td>Northern Suburbs</td>\n",
       "      <td>24 Hour Medical Centre</td>\n",
       "      <td>ZW090A31</td>\n",
       "    </tr>\n",
       "    <tr>\n",
       "      <th>1</th>\n",
       "      <td>Zimbabwe Ministry of Health</td>\n",
       "      <td>Bulawayo</td>\n",
       "      <td>Northern Suburbs</td>\n",
       "      <td>Bulawayo Family Health Clinic</td>\n",
       "      <td>ZW090A30</td>\n",
       "    </tr>\n",
       "    <tr>\n",
       "      <th>2</th>\n",
       "      <td>Zimbabwe Ministry of Health</td>\n",
       "      <td>Bulawayo</td>\n",
       "      <td>Northern Suburbs</td>\n",
       "      <td>Bulawayo Family Medical Clinic</td>\n",
       "      <td>NaN</td>\n",
       "    </tr>\n",
       "    <tr>\n",
       "      <th>3</th>\n",
       "      <td>Zimbabwe Ministry of Health</td>\n",
       "      <td>Bulawayo</td>\n",
       "      <td>Northern Suburbs</td>\n",
       "      <td>Bulawayo Male Circumcision Centre</td>\n",
       "      <td>ZW090A52</td>\n",
       "    </tr>\n",
       "    <tr>\n",
       "      <th>4</th>\n",
       "      <td>Zimbabwe Ministry of Health</td>\n",
       "      <td>Bulawayo</td>\n",
       "      <td>Northern Suburbs</td>\n",
       "      <td>Bulawayo Maternal Health Clinic</td>\n",
       "      <td>NaN</td>\n",
       "    </tr>\n",
       "  </tbody>\n",
       "</table>\n",
       "</div>"
      ],
      "text/plain": [
       "                      National   Province           District  \\\n",
       "0  Zimbabwe Ministry of Health  Bulawayo   Northern Suburbs    \n",
       "1  Zimbabwe Ministry of Health  Bulawayo   Northern Suburbs    \n",
       "2  Zimbabwe Ministry of Health  Bulawayo   Northern Suburbs    \n",
       "3  Zimbabwe Ministry of Health  Bulawayo   Northern Suburbs    \n",
       "4  Zimbabwe Ministry of Health  Bulawayo   Northern Suburbs    \n",
       "\n",
       "                       Facility Name Facility code  \n",
       "0             24 Hour Medical Centre      ZW090A31  \n",
       "1      Bulawayo Family Health Clinic      ZW090A30  \n",
       "2     Bulawayo Family Medical Clinic           NaN  \n",
       "3  Bulawayo Male Circumcision Centre      ZW090A52  \n",
       "4    Bulawayo Maternal Health Clinic           NaN  "
      ]
     },
     "execution_count": 153,
     "metadata": {},
     "output_type": "execute_result"
    }
   ],
   "source": [
    "data.head(5)"
   ]
  },
  {
   "cell_type": "code",
   "execution_count": 154,
   "id": "systematic-policy",
   "metadata": {},
   "outputs": [
    {
     "data": {
      "text/plain": [
       "(10, 5)"
      ]
     },
     "execution_count": 154,
     "metadata": {},
     "output_type": "execute_result"
    }
   ],
   "source": [
    "provinces = data.drop_duplicates(subset=['Province'])\n",
    "provinces.shape"
   ]
  },
  {
   "cell_type": "code",
   "execution_count": 155,
   "id": "warming-winner",
   "metadata": {},
   "outputs": [],
   "source": [
    "provinces = provinces.drop(['National', 'District', 'Facility Name', 'Facility code'], axis=1)"
   ]
  },
  {
   "cell_type": "code",
   "execution_count": 156,
   "id": "figured-alabama",
   "metadata": {},
   "outputs": [],
   "source": [
    "provinces['uid'] = provinces.apply(lambda x: uuid.uuid4(), axis=1)"
   ]
  },
  {
   "cell_type": "code",
   "execution_count": 157,
   "id": "clear-seeker",
   "metadata": {},
   "outputs": [
    {
     "data": {
      "text/html": [
       "<div>\n",
       "<style scoped>\n",
       "    .dataframe tbody tr th:only-of-type {\n",
       "        vertical-align: middle;\n",
       "    }\n",
       "\n",
       "    .dataframe tbody tr th {\n",
       "        vertical-align: top;\n",
       "    }\n",
       "\n",
       "    .dataframe thead th {\n",
       "        text-align: right;\n",
       "    }\n",
       "</style>\n",
       "<table border=\"1\" class=\"dataframe\">\n",
       "  <thead>\n",
       "    <tr style=\"text-align: right;\">\n",
       "      <th></th>\n",
       "      <th>Province</th>\n",
       "      <th>uid</th>\n",
       "    </tr>\n",
       "  </thead>\n",
       "  <tbody>\n",
       "    <tr>\n",
       "      <th>0</th>\n",
       "      <td>Bulawayo</td>\n",
       "      <td>ed4bfdc7-4843-42c2-b355-bce7fcfbe7d3</td>\n",
       "    </tr>\n",
       "    <tr>\n",
       "      <th>54</th>\n",
       "      <td>Harare</td>\n",
       "      <td>b13b3997-7131-4220-8975-63931e37bde3</td>\n",
       "    </tr>\n",
       "    <tr>\n",
       "      <th>162</th>\n",
       "      <td>Manicaland</td>\n",
       "      <td>094590a7-1588-478f-859f-318a8789af98</td>\n",
       "    </tr>\n",
       "    <tr>\n",
       "      <th>198</th>\n",
       "      <td>Masvingo</td>\n",
       "      <td>5dc70549-3b75-479d-a554-50344cd7e1d4</td>\n",
       "    </tr>\n",
       "    <tr>\n",
       "      <th>465</th>\n",
       "      <td>Mashonaland Central</td>\n",
       "      <td>b2c39cab-08e8-40e7-8e66-ac640b0b7b24</td>\n",
       "    </tr>\n",
       "    <tr>\n",
       "      <th>625</th>\n",
       "      <td>Mashonaland East</td>\n",
       "      <td>56b89496-1fb6-49a1-a69c-d632db03667c</td>\n",
       "    </tr>\n",
       "    <tr>\n",
       "      <th>849</th>\n",
       "      <td>Midlands</td>\n",
       "      <td>39ce0e37-9e7b-4bc1-882d-64846ba6821c</td>\n",
       "    </tr>\n",
       "    <tr>\n",
       "      <th>1097</th>\n",
       "      <td>Matabeleland North</td>\n",
       "      <td>a5af845d-e14a-43a1-8337-f9d533941f0f</td>\n",
       "    </tr>\n",
       "    <tr>\n",
       "      <th>1248</th>\n",
       "      <td>Matabeleland South</td>\n",
       "      <td>ce996046-d27c-4349-badb-beaf925d9b98</td>\n",
       "    </tr>\n",
       "    <tr>\n",
       "      <th>1596</th>\n",
       "      <td>Mashonaland West</td>\n",
       "      <td>850570fb-1d86-4fe8-a4a6-9cd44a4dab1b</td>\n",
       "    </tr>\n",
       "  </tbody>\n",
       "</table>\n",
       "</div>"
      ],
      "text/plain": [
       "                  Province                                   uid\n",
       "0                Bulawayo   ed4bfdc7-4843-42c2-b355-bce7fcfbe7d3\n",
       "54                 Harare   b13b3997-7131-4220-8975-63931e37bde3\n",
       "162            Manicaland   094590a7-1588-478f-859f-318a8789af98\n",
       "198              Masvingo   5dc70549-3b75-479d-a554-50344cd7e1d4\n",
       "465   Mashonaland Central   b2c39cab-08e8-40e7-8e66-ac640b0b7b24\n",
       "625      Mashonaland East   56b89496-1fb6-49a1-a69c-d632db03667c\n",
       "849              Midlands   39ce0e37-9e7b-4bc1-882d-64846ba6821c\n",
       "1097   Matabeleland North   a5af845d-e14a-43a1-8337-f9d533941f0f\n",
       "1248   Matabeleland South   ce996046-d27c-4349-badb-beaf925d9b98\n",
       "1596     Mashonaland West   850570fb-1d86-4fe8-a4a6-9cd44a4dab1b"
      ]
     },
     "execution_count": 157,
     "metadata": {},
     "output_type": "execute_result"
    }
   ],
   "source": [
    "provinces"
   ]
  },
  {
   "cell_type": "code",
   "execution_count": 158,
   "id": "failing-stomach",
   "metadata": {},
   "outputs": [],
   "source": [
    "provinces.to_csv(\"provinces.csv\", index=False)"
   ]
  },
  {
   "cell_type": "code",
   "execution_count": null,
   "id": "equivalent-inquiry",
   "metadata": {},
   "outputs": [],
   "source": []
  },
  {
   "cell_type": "code",
   "execution_count": 159,
   "id": "latter-majority",
   "metadata": {},
   "outputs": [
    {
     "data": {
      "text/plain": [
       "(80, 5)"
      ]
     },
     "execution_count": 159,
     "metadata": {},
     "output_type": "execute_result"
    }
   ],
   "source": [
    "districts = data.drop_duplicates(subset=['District'])\n",
    "districts.shape"
   ]
  },
  {
   "cell_type": "code",
   "execution_count": 160,
   "id": "lightweight-bicycle",
   "metadata": {},
   "outputs": [],
   "source": [
    "districts = districts.drop(['National', 'Facility Name', 'Facility code'], axis=1)"
   ]
  },
  {
   "cell_type": "code",
   "execution_count": 161,
   "id": "ethical-battle",
   "metadata": {},
   "outputs": [],
   "source": [
    "districts['id'] = districts.apply(lambda x: uuid.uuid4(), axis=1)"
   ]
  },
  {
   "cell_type": "code",
   "execution_count": 162,
   "id": "other-allah",
   "metadata": {},
   "outputs": [
    {
     "data": {
      "text/html": [
       "<div>\n",
       "<style scoped>\n",
       "    .dataframe tbody tr th:only-of-type {\n",
       "        vertical-align: middle;\n",
       "    }\n",
       "\n",
       "    .dataframe tbody tr th {\n",
       "        vertical-align: top;\n",
       "    }\n",
       "\n",
       "    .dataframe thead th {\n",
       "        text-align: right;\n",
       "    }\n",
       "</style>\n",
       "<table border=\"1\" class=\"dataframe\">\n",
       "  <thead>\n",
       "    <tr style=\"text-align: right;\">\n",
       "      <th></th>\n",
       "      <th>Province</th>\n",
       "      <th>District</th>\n",
       "      <th>id</th>\n",
       "    </tr>\n",
       "  </thead>\n",
       "  <tbody>\n",
       "    <tr>\n",
       "      <th>0</th>\n",
       "      <td>Bulawayo</td>\n",
       "      <td>Northern Suburbs</td>\n",
       "      <td>b3b2f2e2-1e82-4eb0-866b-050287d65491</td>\n",
       "    </tr>\n",
       "    <tr>\n",
       "      <th>8</th>\n",
       "      <td>Bulawayo</td>\n",
       "      <td>Emakhandeni</td>\n",
       "      <td>34501d65-5434-489b-ac46-2e6002b9a9de</td>\n",
       "    </tr>\n",
       "    <tr>\n",
       "      <th>9</th>\n",
       "      <td>Bulawayo</td>\n",
       "      <td>Nkulumane</td>\n",
       "      <td>a1dc8f67-0713-4846-a3fa-f9e67f787492</td>\n",
       "    </tr>\n",
       "    <tr>\n",
       "      <th>17</th>\n",
       "      <td>Bulawayo</td>\n",
       "      <td>Ingutsheni</td>\n",
       "      <td>dc4c7f17-fb42-43c9-8779-f5e57235bd5f</td>\n",
       "    </tr>\n",
       "    <tr>\n",
       "      <th>32</th>\n",
       "      <td>Bulawayo</td>\n",
       "      <td>Mpilo</td>\n",
       "      <td>ad3f1461-d0ec-459f-8386-29c3f9bc9639</td>\n",
       "    </tr>\n",
       "    <tr>\n",
       "      <th>...</th>\n",
       "      <td>...</td>\n",
       "      <td>...</td>\n",
       "      <td>...</td>\n",
       "    </tr>\n",
       "    <tr>\n",
       "      <th>1602</th>\n",
       "      <td>Mashonaland West</td>\n",
       "      <td>Chegutu</td>\n",
       "      <td>8f10af31-a9ea-48c6-be06-caef3e61194d</td>\n",
       "    </tr>\n",
       "    <tr>\n",
       "      <th>1603</th>\n",
       "      <td>Mashonaland West</td>\n",
       "      <td>Mhondoro</td>\n",
       "      <td>a56295cd-9482-4f5e-9b26-81c327c1c2cb</td>\n",
       "    </tr>\n",
       "    <tr>\n",
       "      <th>1608</th>\n",
       "      <td>Mashonaland West</td>\n",
       "      <td>Sanyati</td>\n",
       "      <td>273b551f-e76f-459b-b3b5-61f7f5cf65a5</td>\n",
       "    </tr>\n",
       "    <tr>\n",
       "      <th>1611</th>\n",
       "      <td>Mashonaland West</td>\n",
       "      <td>Kariba</td>\n",
       "      <td>dd8dad38-2b0c-4597-bcd6-791f814eeb21</td>\n",
       "    </tr>\n",
       "    <tr>\n",
       "      <th>1620</th>\n",
       "      <td>Mashonaland West</td>\n",
       "      <td>Hurungwe</td>\n",
       "      <td>bbc47528-e855-46a2-8e56-504bfc38c5f2</td>\n",
       "    </tr>\n",
       "  </tbody>\n",
       "</table>\n",
       "<p>80 rows × 3 columns</p>\n",
       "</div>"
      ],
      "text/plain": [
       "               Province           District  \\\n",
       "0             Bulawayo   Northern Suburbs    \n",
       "8             Bulawayo        Emakhandeni    \n",
       "9             Bulawayo          Nkulumane    \n",
       "17            Bulawayo          Ingutsheni   \n",
       "32            Bulawayo               Mpilo   \n",
       "...                 ...                ...   \n",
       "1602  Mashonaland West            Chegutu    \n",
       "1603  Mashonaland West           Mhondoro    \n",
       "1608  Mashonaland West            Sanyati    \n",
       "1611  Mashonaland West             Kariba    \n",
       "1620  Mashonaland West           Hurungwe    \n",
       "\n",
       "                                        id  \n",
       "0     b3b2f2e2-1e82-4eb0-866b-050287d65491  \n",
       "8     34501d65-5434-489b-ac46-2e6002b9a9de  \n",
       "9     a1dc8f67-0713-4846-a3fa-f9e67f787492  \n",
       "17    dc4c7f17-fb42-43c9-8779-f5e57235bd5f  \n",
       "32    ad3f1461-d0ec-459f-8386-29c3f9bc9639  \n",
       "...                                    ...  \n",
       "1602  8f10af31-a9ea-48c6-be06-caef3e61194d  \n",
       "1603  a56295cd-9482-4f5e-9b26-81c327c1c2cb  \n",
       "1608  273b551f-e76f-459b-b3b5-61f7f5cf65a5  \n",
       "1611  dd8dad38-2b0c-4597-bcd6-791f814eeb21  \n",
       "1620  bbc47528-e855-46a2-8e56-504bfc38c5f2  \n",
       "\n",
       "[80 rows x 3 columns]"
      ]
     },
     "execution_count": 162,
     "metadata": {},
     "output_type": "execute_result"
    }
   ],
   "source": [
    "districts"
   ]
  },
  {
   "cell_type": "code",
   "execution_count": 163,
   "id": "tired-strike",
   "metadata": {},
   "outputs": [],
   "source": [
    "districts.to_csv(\"districts.csv\", index=False)"
   ]
  },
  {
   "cell_type": "code",
   "execution_count": null,
   "id": "widespread-radar",
   "metadata": {},
   "outputs": [],
   "source": []
  },
  {
   "cell_type": "code",
   "execution_count": 149,
   "id": "distinct-infrastructure",
   "metadata": {
    "scrolled": true
   },
   "outputs": [
    {
     "data": {
      "text/html": [
       "<div>\n",
       "<style scoped>\n",
       "    .dataframe tbody tr th:only-of-type {\n",
       "        vertical-align: middle;\n",
       "    }\n",
       "\n",
       "    .dataframe tbody tr th {\n",
       "        vertical-align: top;\n",
       "    }\n",
       "\n",
       "    .dataframe thead th {\n",
       "        text-align: right;\n",
       "    }\n",
       "</style>\n",
       "<table border=\"1\" class=\"dataframe\">\n",
       "  <thead>\n",
       "    <tr style=\"text-align: right;\">\n",
       "      <th></th>\n",
       "      <th>National</th>\n",
       "      <th>Province</th>\n",
       "      <th>District</th>\n",
       "      <th>Facility Name</th>\n",
       "      <th>Facility code</th>\n",
       "    </tr>\n",
       "  </thead>\n",
       "  <tbody>\n",
       "    <tr>\n",
       "      <th>0</th>\n",
       "      <td>Zimbabwe Ministry of Health</td>\n",
       "      <td>Bulawayo</td>\n",
       "      <td>Northern Suburbs</td>\n",
       "      <td>24 Hour Medical Centre</td>\n",
       "      <td>ZW090A31</td>\n",
       "    </tr>\n",
       "    <tr>\n",
       "      <th>1</th>\n",
       "      <td>Zimbabwe Ministry of Health</td>\n",
       "      <td>Bulawayo</td>\n",
       "      <td>Northern Suburbs</td>\n",
       "      <td>Bulawayo Family Health Clinic</td>\n",
       "      <td>ZW090A30</td>\n",
       "    </tr>\n",
       "    <tr>\n",
       "      <th>2</th>\n",
       "      <td>Zimbabwe Ministry of Health</td>\n",
       "      <td>Bulawayo</td>\n",
       "      <td>Northern Suburbs</td>\n",
       "      <td>Bulawayo Family Medical Clinic</td>\n",
       "      <td>NaN</td>\n",
       "    </tr>\n",
       "    <tr>\n",
       "      <th>3</th>\n",
       "      <td>Zimbabwe Ministry of Health</td>\n",
       "      <td>Bulawayo</td>\n",
       "      <td>Northern Suburbs</td>\n",
       "      <td>Bulawayo Male Circumcision Centre</td>\n",
       "      <td>ZW090A52</td>\n",
       "    </tr>\n",
       "    <tr>\n",
       "      <th>4</th>\n",
       "      <td>Zimbabwe Ministry of Health</td>\n",
       "      <td>Bulawayo</td>\n",
       "      <td>Northern Suburbs</td>\n",
       "      <td>Bulawayo Maternal Health Clinic</td>\n",
       "      <td>NaN</td>\n",
       "    </tr>\n",
       "  </tbody>\n",
       "</table>\n",
       "</div>"
      ],
      "text/plain": [
       "                      National   Province           District  \\\n",
       "0  Zimbabwe Ministry of Health  Bulawayo   Northern Suburbs    \n",
       "1  Zimbabwe Ministry of Health  Bulawayo   Northern Suburbs    \n",
       "2  Zimbabwe Ministry of Health  Bulawayo   Northern Suburbs    \n",
       "3  Zimbabwe Ministry of Health  Bulawayo   Northern Suburbs    \n",
       "4  Zimbabwe Ministry of Health  Bulawayo   Northern Suburbs    \n",
       "\n",
       "                       Facility Name Facility code  \n",
       "0             24 Hour Medical Centre      ZW090A31  \n",
       "1      Bulawayo Family Health Clinic      ZW090A30  \n",
       "2     Bulawayo Family Medical Clinic           NaN  \n",
       "3  Bulawayo Male Circumcision Centre      ZW090A52  \n",
       "4    Bulawayo Maternal Health Clinic           NaN  "
      ]
     },
     "execution_count": 149,
     "metadata": {},
     "output_type": "execute_result"
    }
   ],
   "source": [
    "province_district = data\n",
    "province_district.head(5)"
   ]
  },
  {
   "cell_type": "code",
   "execution_count": 150,
   "id": "mineral-hierarchy",
   "metadata": {},
   "outputs": [],
   "source": [
    "def set_province_uid(row):\n",
    "    province = row[\"Province\"]\n",
    "    provinces['Province'] == province\n",
    "    return \"\""
   ]
  },
  {
   "cell_type": "code",
   "execution_count": 151,
   "id": "civil-affiliate",
   "metadata": {},
   "outputs": [],
   "source": [
    "province_district['province_uid'] = province_district.apply(lambda row: set_province_uid(row), axis=1)"
   ]
  },
  {
   "cell_type": "code",
   "execution_count": null,
   "id": "valued-customs",
   "metadata": {},
   "outputs": [],
   "source": []
  },
  {
   "cell_type": "code",
   "execution_count": null,
   "id": "derived-conspiracy",
   "metadata": {},
   "outputs": [],
   "source": []
  }
 ],
 "metadata": {
  "kernelspec": {
   "display_name": "Python 3",
   "language": "python",
   "name": "python3"
  },
  "language_info": {
   "codemirror_mode": {
    "name": "ipython",
    "version": 3
   },
   "file_extension": ".py",
   "mimetype": "text/x-python",
   "name": "python",
   "nbconvert_exporter": "python",
   "pygments_lexer": "ipython3",
   "version": "3.8.5"
  }
 },
 "nbformat": 4,
 "nbformat_minor": 5
}
